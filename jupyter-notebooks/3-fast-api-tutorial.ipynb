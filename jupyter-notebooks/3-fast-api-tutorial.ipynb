{
 "cells": [
  {
   "cell_type": "markdown",
   "metadata": {},
   "source": [
    "# Tutorial - User Guide\n",
    "\n",
    "Based on this section of the documentation: https://fastapi.tiangolo.com/tutorial/first-steps/ .\n",
    "\n",
    "The first step is to install FastAPI: \"pip install fastapi\".\n",
    "\n",
    "To structure your project you can check [**this article**](https://medium.com/@amirm.lavasani/how-to-structure-your-fastapi-projects-0219a6600a8f). We will use this structure here, specifically based on module functionality.\n",
    "\n",
    "Create the folder src, add the file main.py, copy the next code block and run \"fastapi dev src/main.py\".\n"
   ]
  },
  {
   "cell_type": "code",
   "execution_count": null,
   "metadata": {},
   "outputs": [],
   "source": [
    "from fastapi import FastAPI\n",
    "\n",
    "app = FastAPI()\n",
    "\n",
    "\n",
    "@app.get(\"/\")\n",
    "async def root():\n",
    "    return {\"message\": \"Hello World\"}"
   ]
  },
  {
   "cell_type": "markdown",
   "metadata": {},
   "source": [
    "Open your browser at http://127.0.0.1:8000.\n",
    "\n",
    "You will see the JSON response.\n",
    "\n",
    "Interactive API docs\n",
    "Now go to http://127.0.0.1:8000/docs.\n",
    "\n",
    "You will see the automatic interactive API documentation."
   ]
  },
  {
   "cell_type": "markdown",
   "metadata": {},
   "source": [
    "## OpenAPI\n",
    "\n",
    "FastAPI generates a \"schema\" with all your API using the OpenAPI standard for defining APIs.\n",
    "\n",
    "**Schema:** A \"schema\" is a definition or description of something. Not the code that implements it, but just an abstract description.\n",
    "\n",
    "**API schema:** In this case, OpenAPI is a specification that dictates how to define a schema of your API. This schema definition includes your API paths, the possible parameters they take, etc.\n",
    "\n",
    "**Data schema:** The term \"schema\" might also refer to the shape of some data, like a JSON content. In that case, it would mean the JSON attributes, and data types they have, etc.\n",
    "\n",
    "## OpenAPI and JSON Schema\n",
    "\n",
    "OpenAPI defines an API schema for your API. And that schema includes definitions (or \"schemas\") of the data sent and received by your API using JSON Schema, the standard for JSON data schemas.\n",
    "\n",
    "Check the openapi.json¶\n",
    "If you are curious about how the raw OpenAPI schema looks like, FastAPI automatically generates a JSON (schema) with the descriptions of all your API.\n",
    "\n",
    "You can see it directly at: http://127.0.0.1:8000/openapi.json.\n",
    "\n",
    "It will show a JSON starting with something like:"
   ]
  },
  {
   "cell_type": "raw",
   "metadata": {
    "vscode": {
     "languageId": "raw"
    }
   },
   "source": [
    "{\n",
    "    \"openapi\": \"3.1.0\",\n",
    "    \"info\": {\n",
    "        \"title\": \"FastAPI\",\n",
    "        \"version\": \"0.1.0\"\n",
    "    },\n",
    "    \"paths\": {\n",
    "        \"/items/\": {\n",
    "            \"get\": {\n",
    "                \"responses\": {\n",
    "                    \"200\": {\n",
    "                        \"description\": \"Successful Response\",\n",
    "                        \"content\": {\n",
    "                            \"application/json\": {\n",
    "\n",
    "\n",
    "\n",
    "..."
   ]
  },
  {
   "cell_type": "markdown",
   "metadata": {},
   "source": []
  }
 ],
 "metadata": {
  "kernelspec": {
   "display_name": ".venv",
   "language": "python",
   "name": "python3"
  },
  "language_info": {
   "name": "python",
   "version": "3.12.2"
  }
 },
 "nbformat": 4,
 "nbformat_minor": 2
}

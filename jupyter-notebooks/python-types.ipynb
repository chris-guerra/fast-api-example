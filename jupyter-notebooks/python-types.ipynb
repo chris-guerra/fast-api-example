{
 "cells": [
  {
   "cell_type": "markdown",
   "metadata": {},
   "source": [
    "# Python Types Intro\n",
    "\n",
    "FastAPI is all based on these type hints, this is why we go into detail in this point. Full documentation regarding how dtypes are relevant for FastAPI is the following: https://fastapi.tiangolo.com/python-types/#__tabbed_2_1.\n",
    "\n",
    "## Summary\n",
    "\n",
    "### Simple Types\n",
    "- int: Integer type.\n",
    "- float: Floating-point number.\n",
    "- bool: Boolean type.\n",
    "- bytes: Byte type."
   ]
  },
  {
   "cell_type": "code",
   "execution_count": 2,
   "metadata": {},
   "outputs": [
    {
     "data": {
      "text/plain": [
       "'Hello'"
      ]
     },
     "execution_count": 2,
     "metadata": {},
     "output_type": "execute_result"
    }
   ],
   "source": [
    "# Example use of simple types\n",
    "def simple_function(input_value: str):\n",
    "    return input_value.capitalize()\n",
    "\n",
    "simple_function('hello')"
   ]
  },
  {
   "cell_type": "markdown",
   "metadata": {},
   "source": [
    "### Generic Types with Type Parameters\n",
    "\n",
    "With generic types we can include the simple types inside, these can be only one type or a union of types.\n",
    "\n",
    "**List of strings:**\n",
    "\n",
    "When you add a type in a list you declare the type of items you will have in a list, in the next example we only have strings."
   ]
  },
  {
   "cell_type": "code",
   "execution_count": 3,
   "metadata": {},
   "outputs": [
    {
     "data": {
      "text/plain": [
       "['a', 'b', 'c']"
      ]
     },
     "execution_count": 3,
     "metadata": {},
     "output_type": "execute_result"
    }
   ],
   "source": [
    "def append_string(item: list[str], new_letter: str):\n",
    "    item.append(new_letter)\n",
    "    return item\n",
    "\n",
    "our_list = ['a', 'b']\n",
    "our_string = 'c'\n",
    "append_string(our_list, our_string)"
   ]
  },
  {
   "cell_type": "markdown",
   "metadata": {},
   "source": [
    "**Tupple:**\n",
    "\n",
    "Tupples are fixed in size, so you must indicate each value."
   ]
  },
  {
   "cell_type": "code",
   "execution_count": 4,
   "metadata": {},
   "outputs": [
    {
     "name": "stdout",
     "output_type": "stream",
     "text": [
      "1\n",
      "a\n",
      "2\n"
     ]
    },
    {
     "data": {
      "text/plain": [
       "(1, 'a', 2)"
      ]
     },
     "execution_count": 4,
     "metadata": {},
     "output_type": "execute_result"
    }
   ],
   "source": [
    "def process_tupple(items_t: tuple[int, str, int]):\n",
    "    for item in items_t:\n",
    "        print(item)\n",
    "    return items_t\n",
    "\n",
    "our_tuple = (1, 'a', 2)\n",
    "process_tupple(our_tuple)"
   ]
  },
  {
   "cell_type": "markdown",
   "metadata": {},
   "source": [
    "**Sets:**\n",
    "\n",
    "Sets can increase, but each element must be unique, they are not ordered and you call it similarily than a list."
   ]
  },
  {
   "cell_type": "code",
   "execution_count": 5,
   "metadata": {},
   "outputs": [
    {
     "data": {
      "text/plain": [
       "{b'Four', b'One', b'Three', b'Two'}"
      ]
     },
     "execution_count": 5,
     "metadata": {},
     "output_type": "execute_result"
    }
   ],
   "source": [
    "def add_byte(items: set[bytes], value: bytes):\n",
    "    items.add(value)\n",
    "    return items\n",
    "\n",
    "our_set = {b'One', b'Two', b'Three'}\n",
    "new_set_value = b'Four'\n",
    "add_byte(our_set, new_set_value)\n"
   ]
  },
  {
   "cell_type": "markdown",
   "metadata": {},
   "source": [
    "**Dictionary:**\n",
    "\n",
    "To define a dictionary you pass two type parameters, the first for keys and the second for the values."
   ]
  },
  {
   "cell_type": "code",
   "execution_count": 6,
   "metadata": {},
   "outputs": [
    {
     "name": "stdout",
     "output_type": "stream",
     "text": [
      "Item: car, value: 1000\n",
      "Item: toy, value: 10\n"
     ]
    },
    {
     "data": {
      "text/plain": [
       "1010"
      ]
     },
     "execution_count": 6,
     "metadata": {},
     "output_type": "execute_result"
    }
   ],
   "source": [
    "def add_prices(list_price: dict[str, float]):\n",
    "    added_sum = 0\n",
    "    for item_name, item_price in list_price.items():\n",
    "        print(f'Item: {item_name}, value: {item_price}')\n",
    "        added_sum += item_price\n",
    "    return added_sum\n",
    "\n",
    "store_prices = {'car': 1000, 'toy': 10}\n",
    "add_prices(store_prices)"
   ]
  },
  {
   "cell_type": "markdown",
   "metadata": {},
   "source": [
    "A more complicated case is if we have for example a dictionary where the values are lists of numbers."
   ]
  },
  {
   "cell_type": "code",
   "execution_count": 7,
   "metadata": {},
   "outputs": [
    {
     "name": "stdout",
     "output_type": "stream",
     "text": [
      "Adding item: car \n",
      " Prices: [1000]\n",
      "Adding item: toy \n",
      " Prices: [10, 20]\n"
     ]
    },
    {
     "data": {
      "text/plain": [
       "1030"
      ]
     },
     "execution_count": 7,
     "metadata": {},
     "output_type": "execute_result"
    }
   ],
   "source": [
    "def add_all_values(list_prices: dict[str, list[int]]):\n",
    "    added_sum = 0\n",
    "    for item_name, item_list in list_prices.items():\n",
    "        print(f'Adding item: {item_name} \\n Prices: {item_list}')\n",
    "        added_sum += sum(item_list)\n",
    "    return added_sum\n",
    "\n",
    "store_prices = {'car': [1000], 'toy': [10, 20]}\n",
    "add_all_values(store_prices)"
   ]
  },
  {
   "cell_type": "markdown",
   "metadata": {},
   "source": [
    "### Unions & Nones\n",
    "\n",
    "Unions are including more than one type. A few examples:\n",
    "\n",
    "**List of strings and ints:**"
   ]
  },
  {
   "cell_type": "code",
   "execution_count": 8,
   "metadata": {},
   "outputs": [
    {
     "data": {
      "text/plain": [
       "['a', 'b', 1]"
      ]
     },
     "execution_count": 8,
     "metadata": {},
     "output_type": "execute_result"
    }
   ],
   "source": [
    "def append_value(item: list[str | int], new_value: str | int):\n",
    "    item.append(new_value)\n",
    "    return item\n",
    "\n",
    "our_list = ['a', 'b']\n",
    "our_value = 1\n",
    "append_value(our_list, our_value)"
   ]
  },
  {
   "cell_type": "markdown",
   "metadata": {},
   "source": [
    "**None types:**"
   ]
  },
  {
   "cell_type": "code",
   "execution_count": 9,
   "metadata": {},
   "outputs": [
    {
     "data": {
      "text/plain": [
       "'Hi Andrew!'"
      ]
     },
     "execution_count": 9,
     "metadata": {},
     "output_type": "execute_result"
    }
   ],
   "source": [
    "def say_hi(name: str | None = None):\n",
    "    if name is not None: \n",
    "        return f'Hi {name.capitalize()}!'\n",
    "    else:\n",
    "        return 'No name provided'\n",
    "\n",
    "say_hi('andrew')"
   ]
  },
  {
   "cell_type": "markdown",
   "metadata": {},
   "source": [
    "### Classes\n",
    "\n",
    "You can also declare a class as the type of a variable.\n",
    "\n",
    "Notice that this means \"one_person\" is an instance of the class Person."
   ]
  },
  {
   "cell_type": "code",
   "execution_count": 10,
   "metadata": {},
   "outputs": [],
   "source": [
    "class Person:\n",
    "    def __init__(self, name:str):\n",
    "        self.name = name\n",
    "    \n",
    "def get_person_name(one_person: Person):\n",
    "    return one_person.name"
   ]
  },
  {
   "cell_type": "markdown",
   "metadata": {},
   "source": [
    "### Pydantic\n",
    "\n",
    "Pydantic is a python library for data validation. You declare the \"shape\" of the data as classes with attributes. Each attribute has a type.\n",
    "\n",
    "Then you create an instance of that class with some values and it will validate the values, convert them to the appropriate type (if that's the case) and give you an object with all the data."
   ]
  },
  {
   "cell_type": "code",
   "execution_count": 12,
   "metadata": {},
   "outputs": [
    {
     "name": "stdout",
     "output_type": "stream",
     "text": [
      "id=123 name='John Doe' signup_ts=datetime.datetime(2017, 6, 1, 12, 22) friends=[1, 2, 3]\n",
      "123\n"
     ]
    }
   ],
   "source": [
    "from datetime import datetime\n",
    "from pydantic import BaseModel #Note to self, learn well Pydantic\n",
    "\n",
    "class User(BaseModel):\n",
    "    id: int\n",
    "    name: str = 'John Doe'\n",
    "    signup_ts: datetime | None = None\n",
    "    friends: list[int] = []\n",
    "\n",
    "external_data = {\n",
    "    \"id\": \"123\",\n",
    "    \"signup_ts\": \"2017-06-01 12:22\",\n",
    "    \"friends\": [1, \"2\", b\"3\"],\n",
    "}\n",
    "\n",
    "user = User(**external_data)\n",
    "print(user)\n",
    "print(user.id)\n"
   ]
  },
  {
   "cell_type": "markdown",
   "metadata": {},
   "source": [
    "Side note:\n",
    "\n",
    "When you use **external_data, Python unpacks the dictionary and passes each key-value pair as a keyword argument to the User class constructor. This is equivalent to writing:\n",
    "\n",
    "user = User(id=\"123\", signup_ts=\"2017-06-01 12:22\", friends=[1, \"2\", b\"3\"])"
   ]
  },
  {
   "cell_type": "markdown",
   "metadata": {},
   "source": [
    "### Type Hints with Metadata Annotations\n",
    "\n",
    "Python also has a feature that allows putting additional metadata in these type hints using Annotated.\n",
    "\n",
    "Python itself doesn't do anything with this Annotated. And for editors and other tools, the type is still str.\n",
    "\n",
    "But you can use this space in Annotated to provide FastAPI with additional metadata about how you want your application to behave.\n",
    "\n",
    "The important thing to remember is that the first type parameter you pass to Annotated is the actual type. The rest, is just metadata for other tools.\n",
    "\n",
    "For now, you just need to know that Annotated exists, and that it's standard Python."
   ]
  },
  {
   "cell_type": "code",
   "execution_count": 13,
   "metadata": {},
   "outputs": [
    {
     "data": {
      "text/plain": [
       "'Hello chris'"
      ]
     },
     "execution_count": 13,
     "metadata": {},
     "output_type": "execute_result"
    }
   ],
   "source": [
    "from typing import Annotated\n",
    "\n",
    "def say_hello(name: Annotated[str, \"this is just metadata\"]) -> str:\n",
    "    return f\"Hello {name}\"\n",
    "\n",
    "say_hello(\"chris\")"
   ]
  }
 ],
 "metadata": {
  "kernelspec": {
   "display_name": "Python 3",
   "language": "python",
   "name": "python3"
  },
  "language_info": {
   "codemirror_mode": {
    "name": "ipython",
    "version": 3
   },
   "file_extension": ".py",
   "mimetype": "text/x-python",
   "name": "python",
   "nbconvert_exporter": "python",
   "pygments_lexer": "ipython3",
   "version": "3.12.2"
  }
 },
 "nbformat": 4,
 "nbformat_minor": 2
}
